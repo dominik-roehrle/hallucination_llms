{
 "cells": [
  {
   "cell_type": "code",
   "execution_count": 1,
   "metadata": {},
   "outputs": [],
   "source": [
    "import pandas as pd\n",
    "\n",
    "\n",
    "df_sentences = pd.read_csv(\"processed_datasets_hover/sentences_hover.csv\")"
   ]
  },
  {
   "cell_type": "code",
   "execution_count": null,
   "metadata": {},
   "outputs": [],
   "source": [
    "import spacy\n",
    "from fastcoref import spacy_component\n",
    "# Load the spaCy English model\n",
    "nlp = spacy.load(\"en_core_web_sm\")\n",
    "\n",
    "# Add the fastcoref component with LingMessCoref model\n",
    "nlp.add_pipe(\n",
    "    \"fastcoref\", \n",
    "    config={\n",
    "        'model_architecture': 'LingMessCoref', \n",
    "        'model_path': 'biu-nlp/lingmess-coref', \n",
    "        'device': 'cuda'  # Change to 'cuda' if you have a GPU and the necessary drivers\n",
    "    }\n",
    ")"
   ]
  },
  {
   "cell_type": "code",
   "execution_count": 3,
   "metadata": {},
   "outputs": [],
   "source": [
    "def convert_text_to_sentences(text):\n",
    "    all_sentences = []\n",
    "    doc = nlp(text)\n",
    "    sentences = [sent.text for sent in doc.sents]\n",
    "    all_sentences.append(sentences)\n",
    "    all_sentences = [item for sublist in all_sentences for item in sublist]\n",
    "    return all_sentences"
   ]
  },
  {
   "cell_type": "code",
   "execution_count": null,
   "metadata": {},
   "outputs": [],
   "source": [
    "from fastcoref import spacy_component\n",
    "import spacy\n",
    "\n",
    "nlp = spacy.load(\"en_core_web_sm\")\n",
    "nlp.add_pipe(\n",
    "   \"fastcoref\", \n",
    "   config={'model_architecture': 'LingMessCoref', 'model_path': 'biu-nlp/lingmess-coref', 'device': 'cuda'}\n",
    ")"
   ]
  },
  {
   "cell_type": "code",
   "execution_count": null,
   "metadata": {},
   "outputs": [],
   "source": [
    "text =  'Andy Cohen is the Executive Producer of the Bravo reality television series The Real Housewives, and he also hosts the late-night talk show \"Watch What Happens Live with Andy Cohen\" on Bravo. '\n",
    "\n",
    "sentences = convert_text_to_sentences(text)\n",
    "\n",
    "sentences"
   ]
  },
  {
   "cell_type": "code",
   "execution_count": null,
   "metadata": {},
   "outputs": [],
   "source": [
    "import random\n",
    "\n",
    "coref_samples = []\n",
    "raw_samples = []\n",
    "gpt_samples = []\n",
    "\n",
    "df_evidence = df_sentences.groupby('gen_evidence')\n",
    "\n",
    "# Convert the groups to a list\n",
    "evidence_groups = list(df_evidence)\n",
    "\n",
    "# Set the random state for reproducibility\n",
    "rng = random.Random(42)\n",
    "\n",
    "# Shuffle the groups with the random state\n",
    "rng.shuffle(evidence_groups)\n",
    "\n",
    "# Iterate over the shuffled groups\n",
    "for gen_evidence, group in evidence_groups:\n",
    "    \n",
    "\n",
    "    gen_evidence_with_coref = group['gen_evidence_with_coref'].values[0]\n",
    "    gen_evidence_sentences = convert_text_to_sentences(gen_evidence)\n",
    "    \n",
    "    if str(gen_evidence_with_coref).strip() != str(gen_evidence).strip():\n",
    "        # Only process if the condition is met\n",
    "        if len(gen_evidence_sentences) > 1:\n",
    "            print(gen_evidence)\n",
    "            print(gen_evidence_with_coref)\n",
    "            \n",
    "            doc = nlp(      \n",
    "                gen_evidence, \n",
    "                component_cfg={\"fastcoref\": {'resolve_text': True}}\n",
    "            )\n",
    "\n",
    "            resolved_text = doc._.resolved_text\n",
    "            print(resolved_text)\n",
    "            \n",
    "            raw_samples.append(gen_evidence)\n",
    "            coref_samples.append(resolved_text)\n",
    "            gpt_samples.append(gen_evidence_with_coref)\n",
    "\n",
    "            # Stop once we have 300 valid samples\n",
    "            if len(coref_samples) == 100:\n",
    "                break\n"
   ]
  },
  {
   "cell_type": "code",
   "execution_count": 14,
   "metadata": {},
   "outputs": [],
   "source": [
    "df = pd.DataFrame({\n",
    "    'Raw Samples': raw_samples,\n",
    "    'Coref Edit': coref_samples,\n",
    "    'GPT Edit': gpt_samples,\n",
    "    'Correct Coref': '',\n",
    "    'Correct GPT': ''\n",
    "})\n",
    "\n",
    "# Export to Excel\n",
    "df.to_excel('gpt_coref.xlsx', index=False)\n"
   ]
  },
  {
   "cell_type": "code",
   "execution_count": 34,
   "metadata": {},
   "outputs": [],
   "source": [
    "df = pd.DataFrame({\n",
    "    'Raw Sample': raw_samples,\n",
    "    'Coref Edit': coref_samples,\n",
    "    'GPT Edit': gpt_samples,\n",
    "})\n",
    "\n",
    "df.to_excel('gpt_coref.xlsx', index=False)"
   ]
  },
  {
   "cell_type": "code",
   "execution_count": 7,
   "metadata": {},
   "outputs": [],
   "source": [
    "import pandas as pd \n",
    "\n",
    "df = pd.read_excel('gpt_coref.xlsx')\n",
    "\n",
    "df = df.loc[(df['Correct Coref'] != 2) & (df['Correct GPT'] != 2)].iloc[:1]"
   ]
  },
  {
   "cell_type": "code",
   "execution_count": 9,
   "metadata": {},
   "outputs": [
    {
     "data": {
      "text/html": [
       "<div>\n",
       "<style scoped>\n",
       "    .dataframe tbody tr th:only-of-type {\n",
       "        vertical-align: middle;\n",
       "    }\n",
       "\n",
       "    .dataframe tbody tr th {\n",
       "        vertical-align: top;\n",
       "    }\n",
       "\n",
       "    .dataframe thead th {\n",
       "        text-align: right;\n",
       "    }\n",
       "</style>\n",
       "<table border=\"1\" class=\"dataframe\">\n",
       "  <thead>\n",
       "    <tr style=\"text-align: right;\">\n",
       "      <th></th>\n",
       "      <th>Raw Samples</th>\n",
       "      <th>Coref Edit</th>\n",
       "      <th>GPT Edit</th>\n",
       "      <th>Correct Coref</th>\n",
       "      <th>Correct GPT</th>\n",
       "      <th>Reason</th>\n",
       "    </tr>\n",
       "  </thead>\n",
       "  <tbody>\n",
       "    <tr>\n",
       "      <th>3</th>\n",
       "      <td>The flag of the United States is a prominent ...</td>\n",
       "      <td>The flag of the United States is a prominent ...</td>\n",
       "      <td>The flag of the United States is a prominent e...</td>\n",
       "      <td>1</td>\n",
       "      <td>1</td>\n",
       "      <td>No Change needed</td>\n",
       "    </tr>\n",
       "  </tbody>\n",
       "</table>\n",
       "</div>"
      ],
      "text/plain": [
       "                                         Raw Samples  \\\n",
       "3   The flag of the United States is a prominent ...   \n",
       "\n",
       "                                          Coref Edit  \\\n",
       "3   The flag of the United States is a prominent ...   \n",
       "\n",
       "                                            GPT Edit  Correct Coref  \\\n",
       "3  The flag of the United States is a prominent e...              1   \n",
       "\n",
       "   Correct GPT            Reason  \n",
       "3            1  No Change needed  "
      ]
     },
     "execution_count": 9,
     "metadata": {},
     "output_type": "execute_result"
    }
   ],
   "source": [
    "df"
   ]
  },
  {
   "cell_type": "code",
   "execution_count": 8,
   "metadata": {},
   "outputs": [
    {
     "name": "stdout",
     "output_type": "stream",
     "text": [
      "500\n",
      "488\n",
      "0.976\n",
      "103\n",
      "0.206\n"
     ]
    }
   ],
   "source": [
    "import pandas as pd \n",
    "\n",
    "df = pd.read_excel('gpt_coref.xlsx')\n",
    "\n",
    "#df2 = df.loc[(df['Correct GPT'] == 2)]\n",
    "#print(len(df2))\n",
    "\n",
    "#df = df.loc[(df['Correct Coref'] != 2) & (df['Correct GPT'] != 2)]\n",
    "\n",
    "print(len(df))\n",
    "\n",
    "df_gpt = df.loc[(df['Correct GPT'] == 1) | (df['Correct GPT'] == 2)]\n",
    "df_coref = df.loc[(df['Correct Coref'] == 1) ]\n",
    "\n",
    "print(len(df_gpt))\n",
    "print(len(df_gpt) / len(df))\n",
    "\n",
    "print(len(df_coref))\n",
    "print(len(df_coref) / len(df))\n"
   ]
  },
  {
   "cell_type": "code",
   "execution_count": 2,
   "metadata": {},
   "outputs": [
    {
     "name": "stdout",
     "output_type": "stream",
     "text": [
      "488\n",
      "115\n",
      "126\n"
     ]
    }
   ],
   "source": [
    "import pandas as pd \n",
    "\n",
    "df = pd.read_excel('gpt_coref.xlsx')\n",
    "\n",
    "df_gpt = df.loc[(df['Correct GPT'] == 1) | (df['Correct GPT'] == 2)]\n",
    "\n",
    "print(len(df_gpt))\n",
    "\n",
    "df_coref = df.loc[(df['Correct GPT'] != 2) & (df['Correct Coref'] != 2)]\n",
    "df_gpt_with_coref = df.loc[(df['Correct GPT'] == 1)] \n",
    "\n",
    "print(len(df_gpt_with_coref))\n",
    "print(len(df_coref))"
   ]
  },
  {
   "cell_type": "code",
   "execution_count": null,
   "metadata": {},
   "outputs": [],
   "source": [
    "for gpt_edit, correct in zip(df['GPT Edit'].tolist(), df['Correct GPT'].tolist()):\n",
    "    print(gpt_edit)\n",
    "    print(correct)\n",
    "    print()"
   ]
  },
  {
   "cell_type": "code",
   "execution_count": null,
   "metadata": {},
   "outputs": [],
   "source": [
    "df"
   ]
  },
  {
   "cell_type": "code",
   "execution_count": null,
   "metadata": {},
   "outputs": [],
   "source": [
    "for r_sample, c_sample, gpt_sample in zip(raw_samples, coref_samples, gpt_samples):\n",
    "    print(r_sample)\n",
    "    print(c_sample)\n",
    "    print(gpt_sample)\n",
    "    print()\n"
   ]
  },
  {
   "cell_type": "code",
   "execution_count": null,
   "metadata": {},
   "outputs": [],
   "source": [
    "text =\"Beautiful is a song by American singer-songwriter Christina Aguilera, featuring rapper Daughtry. It was released in 2002 as the second single from Aguilera's self-titled album Christina Aguilera. The song peaked at number 5 on the US Billboard Hot 100 chart.\"\n",
    " \n",
    "doc = nlp(      \n",
    "    text, \n",
    "    component_cfg={\"fastcoref\": {'resolve_text': True}}\n",
    ")\n",
    "\n",
    "resolved_text = doc._.resolved_text\n",
    "resolved_text"
   ]
  }
 ],
 "metadata": {
  "kernelspec": {
   "display_name": "llama2",
   "language": "python",
   "name": "python3"
  },
  "language_info": {
   "codemirror_mode": {
    "name": "ipython",
    "version": 3
   },
   "file_extension": ".py",
   "mimetype": "text/x-python",
   "name": "python",
   "nbconvert_exporter": "python",
   "pygments_lexer": "ipython3",
   "version": "3.11.9"
  }
 },
 "nbformat": 4,
 "nbformat_minor": 2
}
